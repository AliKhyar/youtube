{
 "cells": [
  {
   "cell_type": "markdown",
   "metadata": {},
   "source": [
    " # Memoization \n"
   ]
  },
  {
   "cell_type": "markdown",
   "metadata": {},
   "source": [
    "### Fibonacci\n",
    "\n",
    "   0(0),1(1),1(2),2(3),3(4),5(5),8(6),13(7),21(8),34(9),55(10),89(11), ... <br>\n",
    "\n",
    "fib(0) => 0 <br>\n",
    "fib(1) => 1 <br>\n",
    "fib(2) => 1 <br>\n",
    "fib(3) => 2 <br>\n",
    "..."
   ]
  },
  {
   "cell_type": "code",
   "execution_count": 37,
   "metadata": {},
   "outputs": [],
   "source": [
    "def fib(n):\n",
    "    #base case\n",
    "    if n == 0:\n",
    "        return 0\n",
    "    elif n == 1:\n",
    "        return 1\n",
    "    else:\n",
    "        return fib(n-1) + fib(n-2)"
   ]
  },
  {
   "cell_type": "code",
   "execution_count": 38,
   "metadata": {},
   "outputs": [
    {
     "name": "stdout",
     "output_type": "stream",
     "text": [
      "fib(0): 0   --- 9.5367431640625e-06 seconds ---\n",
      "fib(1): 1   --- 6.9141387939453125e-06 seconds ---\n",
      "fib(2): 1   --- 9.775161743164062e-06 seconds ---\n",
      "fib(3): 2   --- 1.1682510375976562e-05 seconds ---\n",
      "fib(4): 3   --- 1.3589859008789062e-05 seconds ---\n",
      "fib(5): 5   --- 1.7881393432617188e-05 seconds ---\n",
      "fib(6): 8   --- 2.4557113647460938e-05 seconds ---\n",
      "fib(7): 13   --- 3.814697265625e-05 seconds ---\n",
      "fib(8): 21   --- 5.888938903808594e-05 seconds ---\n",
      "fib(9): 34   --- 9.465217590332031e-05 seconds ---\n",
      "fib(10): 55   --- 0.00013971328735351562 seconds ---\n",
      "fib(11): 89   --- 0.0002143383026123047 seconds ---\n",
      "fib(12): 144   --- 0.00035762786865234375 seconds ---\n",
      "fib(13): 233   --- 0.0006039142608642578 seconds ---\n",
      "fib(14): 377   --- 0.0007882118225097656 seconds ---\n",
      "fib(15): 610   --- 0.001104593276977539 seconds ---\n",
      "fib(16): 987   --- 0.0017714500427246094 seconds ---\n",
      "fib(17): 1597   --- 0.0026984214782714844 seconds ---\n",
      "fib(18): 2584   --- 0.0043866634368896484 seconds ---\n",
      "fib(19): 4181   --- 0.013575553894042969 seconds ---\n",
      "fib(20): 6765   --- 0.0108642578125 seconds ---\n",
      "fib(21): 10946   --- 0.014429569244384766 seconds ---\n",
      "fib(22): 17711   --- 0.01608872413635254 seconds ---\n",
      "fib(23): 28657   --- 0.021266698837280273 seconds ---\n",
      "fib(24): 46368   --- 0.03442263603210449 seconds ---\n",
      "fib(25): 75025   --- 0.053931474685668945 seconds ---\n",
      "fib(26): 121393   --- 0.0900416374206543 seconds ---\n",
      "fib(27): 196418   --- 0.16104865074157715 seconds ---\n",
      "fib(28): 317811   --- 0.2480788230895996 seconds ---\n",
      "fib(29): 514229   --- 0.400970458984375 seconds ---\n",
      "fib(30): 832040   --- 0.703906774520874 seconds ---\n",
      "fib(31): 1346269   --- 1.2088992595672607 seconds ---\n",
      "fib(32): 2178309   --- 1.8999581336975098 seconds ---\n",
      "fib(33): 3524578   --- 2.7872345447540283 seconds ---\n",
      "fib(34): 5702887   --- 5.069707632064819 seconds ---\n"
     ]
    }
   ],
   "source": [
    "import time\n",
    "for i in range(35):\n",
    "    start_time = time.time()\n",
    "    print(f\"fib({i}): {fib(i)}\"+\"   \"+\"--- %s seconds ---\" % (time.time() - start_time))"
   ]
  },
  {
   "cell_type": "markdown",
   "metadata": {},
   "source": [
    "fib(4) = fib(3) + fib(2) = fib (2) + fib(1) + fib(1) + fib(0)"
   ]
  },
  {
   "cell_type": "markdown",
   "metadata": {},
   "source": [
    "kan cachiw results => kankhbiwhoum"
   ]
  },
  {
   "cell_type": "markdown",
   "metadata": {},
   "source": [
    "## explicitly"
   ]
  },
  {
   "cell_type": "code",
   "execution_count": 41,
   "metadata": {},
   "outputs": [],
   "source": [
    "fib_cache = [None] * 100 #fib_cache = {}\n",
    "def fib2(n):\n",
    "    if n == 0:\n",
    "        return 0\n",
    "    elif n == 1:\n",
    "        return 1\n",
    "    elif fib_cache[n] != None:\n",
    "        return fib_cache[n]\n",
    "    else:\n",
    "        fib_cache[n] = fib2(n-1) + fib2(n-2)\n",
    "        return fib_cache[n]\n",
    "    "
   ]
  },
  {
   "cell_type": "code",
   "execution_count": 42,
   "metadata": {},
   "outputs": [
    {
     "name": "stdout",
     "output_type": "stream",
     "text": [
      "fib(0): 0   --- 7.152557373046875e-06 seconds ---\n",
      "fib(1): 1   --- 4.5299530029296875e-06 seconds ---\n",
      "fib(2): 1   --- 7.152557373046875e-06 seconds ---\n",
      "fib(3): 2   --- 5.4836273193359375e-06 seconds ---\n",
      "fib(4): 3   --- 5.245208740234375e-06 seconds ---\n",
      "fib(5): 5   --- 4.291534423828125e-06 seconds ---\n",
      "fib(6): 8   --- 4.291534423828125e-06 seconds ---\n",
      "fib(7): 13   --- 4.5299530029296875e-06 seconds ---\n",
      "fib(8): 21   --- 4.5299530029296875e-06 seconds ---\n",
      "fib(9): 34   --- 4.5299530029296875e-06 seconds ---\n",
      "fib(10): 55   --- 4.291534423828125e-06 seconds ---\n",
      "fib(11): 89   --- 4.291534423828125e-06 seconds ---\n",
      "fib(12): 144   --- 4.291534423828125e-06 seconds ---\n",
      "fib(13): 233   --- 4.291534423828125e-06 seconds ---\n",
      "fib(14): 377   --- 4.291534423828125e-06 seconds ---\n",
      "fib(15): 610   --- 4.291534423828125e-06 seconds ---\n",
      "fib(16): 987   --- 4.5299530029296875e-06 seconds ---\n",
      "fib(17): 1597   --- 4.76837158203125e-06 seconds ---\n",
      "fib(18): 2584   --- 4.76837158203125e-06 seconds ---\n",
      "fib(19): 4181   --- 4.0531158447265625e-06 seconds ---\n",
      "fib(20): 6765   --- 4.291534423828125e-06 seconds ---\n",
      "fib(21): 10946   --- 7.62939453125e-06 seconds ---\n",
      "fib(22): 17711   --- 5.0067901611328125e-06 seconds ---\n",
      "fib(23): 28657   --- 8.58306884765625e-06 seconds ---\n",
      "fib(24): 46368   --- 7.867813110351562e-06 seconds ---\n",
      "fib(25): 75025   --- 8.58306884765625e-06 seconds ---\n",
      "fib(26): 121393   --- 8.106231689453125e-06 seconds ---\n",
      "fib(27): 196418   --- 7.152557373046875e-06 seconds ---\n",
      "fib(28): 317811   --- 4.76837158203125e-06 seconds ---\n",
      "fib(29): 514229   --- 4.5299530029296875e-06 seconds ---\n",
      "fib(30): 832040   --- 4.5299530029296875e-06 seconds ---\n",
      "fib(31): 1346269   --- 4.76837158203125e-06 seconds ---\n",
      "fib(32): 2178309   --- 4.76837158203125e-06 seconds ---\n",
      "fib(33): 3524578   --- 5.245208740234375e-06 seconds ---\n",
      "fib(34): 5702887   --- 4.76837158203125e-06 seconds ---\n"
     ]
    }
   ],
   "source": [
    "for i in range(35):\n",
    "    start_time = time.time()\n",
    "    print(f\"fib({i}): {fib2(i)}\"+\"   \"+\"--- %s seconds ---\" % (time.time() - start_time))"
   ]
  },
  {
   "cell_type": "code",
   "execution_count": 43,
   "metadata": {},
   "outputs": [],
   "source": [
    "from functools import lru_cache\n",
    "@lru_cache(maxsize=35)\n",
    "def fib3(n):\n",
    "    #base case\n",
    "    if n == 0:\n",
    "        return 0\n",
    "    elif n == 1:\n",
    "        return 1\n",
    "    else:\n",
    "        return fib3(n-1) + fib3(n-2)"
   ]
  },
  {
   "cell_type": "code",
   "execution_count": 45,
   "metadata": {},
   "outputs": [
    {
     "name": "stdout",
     "output_type": "stream",
     "text": [
      "fib(0): 0   --- 6.198883056640625e-06 seconds ---\n",
      "fib(1): 1   --- 5.9604644775390625e-06 seconds ---\n",
      "fib(2): 1   --- 5.9604644775390625e-06 seconds ---\n",
      "fib(3): 2   --- 4.76837158203125e-06 seconds ---\n",
      "fib(4): 3   --- 4.5299530029296875e-06 seconds ---\n",
      "fib(5): 5   --- 4.76837158203125e-06 seconds ---\n",
      "fib(6): 8   --- 4.0531158447265625e-06 seconds ---\n",
      "fib(7): 13   --- 4.291534423828125e-06 seconds ---\n",
      "fib(8): 21   --- 4.291534423828125e-06 seconds ---\n",
      "fib(9): 34   --- 4.291534423828125e-06 seconds ---\n",
      "fib(10): 55   --- 5.7220458984375e-06 seconds ---\n",
      "fib(11): 89   --- 9.059906005859375e-06 seconds ---\n",
      "fib(12): 144   --- 5.7220458984375e-06 seconds ---\n",
      "fib(13): 233   --- 5.245208740234375e-06 seconds ---\n",
      "fib(14): 377   --- 4.76837158203125e-06 seconds ---\n",
      "fib(15): 610   --- 4.291534423828125e-06 seconds ---\n",
      "fib(16): 987   --- 4.76837158203125e-06 seconds ---\n",
      "fib(17): 1597   --- 5.0067901611328125e-06 seconds ---\n",
      "fib(18): 2584   --- 4.291534423828125e-06 seconds ---\n",
      "fib(19): 4181   --- 4.291534423828125e-06 seconds ---\n",
      "fib(20): 6765   --- 4.291534423828125e-06 seconds ---\n",
      "fib(21): 10946   --- 6.9141387939453125e-06 seconds ---\n",
      "fib(22): 17711   --- 4.5299530029296875e-06 seconds ---\n",
      "fib(23): 28657   --- 4.291534423828125e-06 seconds ---\n",
      "fib(24): 46368   --- 4.291534423828125e-06 seconds ---\n",
      "fib(25): 75025   --- 4.291534423828125e-06 seconds ---\n",
      "fib(26): 121393   --- 4.291534423828125e-06 seconds ---\n",
      "fib(27): 196418   --- 4.291534423828125e-06 seconds ---\n",
      "fib(28): 317811   --- 4.291534423828125e-06 seconds ---\n",
      "fib(29): 514229   --- 5.0067901611328125e-06 seconds ---\n",
      "fib(30): 832040   --- 4.291534423828125e-06 seconds ---\n",
      "fib(31): 1346269   --- 4.5299530029296875e-06 seconds ---\n",
      "fib(32): 2178309   --- 1.9073486328125e-05 seconds ---\n",
      "fib(33): 3524578   --- 4.291534423828125e-06 seconds ---\n",
      "fib(34): 5702887   --- 4.5299530029296875e-06 seconds ---\n"
     ]
    }
   ],
   "source": [
    "for i in range(35):\n",
    "    start_time = time.time()\n",
    "    print(f\"fib({i}): {fib3(i)}\"+\"   \"+\"--- %s seconds ---\" % (time.time() - start_time))"
   ]
  },
  {
   "cell_type": "code",
   "execution_count": null,
   "metadata": {},
   "outputs": [],
   "source": []
  }
 ],
 "metadata": {
  "kernelspec": {
   "display_name": "Python 3",
   "language": "python",
   "name": "python3"
  },
  "language_info": {
   "codemirror_mode": {
    "name": "ipython",
    "version": 3
   },
   "file_extension": ".py",
   "mimetype": "text/x-python",
   "name": "python",
   "nbconvert_exporter": "python",
   "pygments_lexer": "ipython3",
   "version": "3.7.4"
  }
 },
 "nbformat": 4,
 "nbformat_minor": 4
}
